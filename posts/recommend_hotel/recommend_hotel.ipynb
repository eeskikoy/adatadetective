{
 "cells": [
  {
   "cell_type": "markdown",
   "metadata": {},
   "source": [
    "# Author : Erdal Eskikoy\n",
    "***\n",
    "## Capstone Project for Qualifying IBM Data Science Professional Certification\n",
    "***"
   ]
  },
  {
   "cell_type": "markdown",
   "metadata": {},
   "source": [
    "\n",
    "# Import Packages\n"
   ]
  },
  {
   "cell_type": "code",
   "execution_count": 1,
   "metadata": {},
   "outputs": [],
   "source": [
    "import numpy as np # library to handle data in a vectorized manner\n",
    "\n",
    "import pandas as pd # library for data analsysis\n",
    "pd.set_option('display.max_columns', None)\n",
    "pd.set_option('display.max_rows', None)\n",
    "pd.set_option('display.width', 1000)\n",
    "\n",
    "from bs4 import BeautifulSoup\n",
    "import requests, json \n",
    "\n",
    "import geocoder\n",
    "\n",
    "# !conda install -c conda-forge geopy --yes # uncomment this line if you haven't completed the Foursquare API lab\n",
    "from geopy.geocoders import Nominatim # convert an address into latitude and longitude values\n",
    "\n",
    "# Matplotlib and associated plotting modules\n",
    "import matplotlib.pyplot as plt\n",
    "import matplotlib.cm as cm\n",
    "import matplotlib.colors as colors\n",
    "\n",
    "# import k-means from clustering stage\n",
    "from sklearn.cluster import KMeans\n",
    "\n",
    "# We use StandardScaler() to normalize our dataset.\n",
    "from sklearn.preprocessing import StandardScaler\n",
    "\n",
    "# !conda install -c conda-forge folium=0.5.0 --yes # uncomment this line if you haven't completed the Foursquare API lab\n",
    "import folium # map rendering library\n",
    "import os\n"
   ]
  },
  {
   "cell_type": "markdown",
   "metadata": {},
   "source": [
    "\n",
    "# Introduction/Business Problem \n",
    "\n",
    "A travel agency which is specialized in arranging vacations for elderly French people, want to have a solution\n",
    "to find out the right travel recommendation for their client's specific accomodation needs.\n",
    "\n",
    "While the agency provide a bunch of detailed content via their web site, digging tons of pages and magazines\n",
    "cost endless hours of their customers without making any desicion to book a holiday. The agency would like to provide some mechanism for their clients to shorten the time wasted in questing for desired holiday destinations and make them  take advantage of data science techniques to save time in their quest for finding best \n"
   ]
  },
  {
   "cell_type": "markdown",
   "metadata": {},
   "source": [
    "# 1. Introduction/Business Problem \n",
    "\n",
    "A travel agency which is specialised in arranging holidays for elderly French people, want to have a solution to find out the right travel recommendation for their client's specific accommodation needs of city tours.\n",
    "\n",
    "While the agency provides a bunch of detailed content via their website, digging tons of pages and magazines cost endless hours of their customers without making any decision to book a holiday.\n",
    "\n",
    "The agency states the following wishes of their customers to be meet for their guaranteed pleasant stay in the touristic destinations.\n",
    "\n",
    "- They are elderly retired French people and they are not open to the cuisines other than French Kitchen. So they would like to eat at a French restaurant or Bistro. A destination neighbourhood having more French restaurants and bistros are preferable over other neighbourhoods having less.\n",
    "\n",
    "- They would like to go to venues such as Museums, Performing Art Venues, Theatres and Movie Theatres. A neighbourhood with more of these venues are preferable over other neighbourhoods having less\n",
    "\n",
    "- They would like to stay in hotels where all the venues (Restaurants, museums etc) should not be away more than 15 minutes walking distance. A hotel with lesser walking distance to venues is more preferable than the ones having a longer distance.\n",
    "\n",
    "Based on the given customer profile and customer requirements, the agency would like to provide some mechanism for their clients to shorten the time wasted in searching for their ideal places to stay in the cities they want to visit. In other words, they would like to offer their clients some tool in their quest for finding the best neighbourhoods to stay in their desired destinations.\n",
    "\n",
    "\n"
   ]
  },
  {
   "cell_type": "markdown",
   "metadata": {},
   "source": [
    "# 2. Analytic Approach & Learning Model\n",
    "Based on the requirements mentioned in the Business Problem, we are not told about the best/right neighbourhoods and we can not make any distinctions between neighbourhouds regarding the requirements of the clients.\n",
    "On the other hand, we are required to recommend the neighbourhoods having similar characteristics suited to the needs of the clients so that they can find out the desired vacation destination in a short period of time. In our situation, finding similarities of a given neighbourhoods can be best be addressed by Unsupervised Learning algorithms by grouping data in clusters. Therefore, we will use K-Means Clustering Algorithm.\n",
    "\n"
   ]
  },
  {
   "cell_type": "markdown",
   "metadata": {},
   "source": [
    "# 3. Collect, Prepare and Clean Data\n",
    "***\n",
    "\n",
    "We need to collect appropriate data for segmentation of neighbourhoods such that they can satisfy the clients requirements.\n"
   ]
  },
  {
   "cell_type": "markdown",
   "metadata": {},
   "source": [
    "### Initialize Neighboorhoods to include in Analysis\n",
    "We do not include all the neighbourhoods in our project for a few reasons:\n",
    "1. To avoid unexpected costs due to exceeding number of Google Distance Matrix API calls.\n",
    "2. Increasing number of Neighbourhoods in the analysis causes performance issues due to Google API calls (Slow network response time after 100 API Calls)"
   ]
  },
  {
   "cell_type": "code",
   "execution_count": 2,
   "metadata": {},
   "outputs": [],
   "source": [
    "neigbourhood_list=[]\n",
    "neighbourhood_filter=[\n",
    "\"Stadsdriehoek/Rotterdam Centrum\",\n",
    "\"Cool/Rotterdam Centrum\",\n",
    "\"Rotterdam Centraal/Weena\",\n",
    "\"Oude Westen\",\n",
    "\"Dijkzigt\",\n",
    "\"Scheepvaartkwartier/Nieuwe Werk\",\n",
    "\"Middelland\",\n",
    "# \"Middelland\",\n",
    "\"Nieuwe Westen\",\n",
    "\"Coolhaveneiland\",\n",
    "# \"Bospolder\",\n",
    "# \"Tussendijken\",\n",
    "# \"Spangen\",\n",
    "# \"Oud-Mathenesse\",\n",
    "# \"Schiemond/Nieuw-Mathenesse\",\n",
    "# \"Rubroek\",\n",
    "# \"Agniesebuurt\",\n",
    "# \"Provenierswijk\",\n",
    "# \"Crooswijk\",\n",
    "# \"Oude Noorden\",\n",
    "# \"Oude Noorden\",\n",
    "# \"Liskwartier\",\n",
    "# \"Bergpolder\",\n",
    "# \"Blijdorp\",\n",
    "# \"Diergaarde Blijdorp/Kleinpolder\",\n",
    "# \"Diergaarde Blijdorp/Kleinpolder\",\n",
    "# \"Overschie\",\n",
    "# \"Spaanse Polder\",\n",
    "# \"Rotterdam Airport\",\n",
    "# \"Zestienhoven\",\n",
    "# \"Schieveen\",\n",
    "# \"Bedrijventerrein Rotterdam Noord-West\",\n",
    "# \"Kleiwegkwartier\",\n",
    "# \"Schiebroek\",\n",
    "# \"Schiebroek\",\n",
    "\"Hillegersberg Centrum\",\n",
    "# \"Molenlaankwartier\",\n",
    "# \"Terbregge\",\n",
    "# \"Nesselande\",\n",
    "# \"Kralingen\",\n",
    "\"Kralingen\",\n",
    "# \"De Esch\",\n",
    "# \"Kralingseveer\",\n",
    "# \"'s-Gravenland\",\n",
    "# \"Prinsenland\",\n",
    "# \"Het Lage Land/Oosterflank\",\n",
    "# \"Ommoord/Zevenkamp\",\n",
    "# \"Ommoord/Zevenkamp\",\n",
    "\"Feijenoord/Noordereiland/Kop van Zuid\",\n",
    "\"Afrikaanderwijk/Katendrecht\",\n",
    "# \"Bloemhof/Strevelswijk\",\n",
    "# \"Hillesluis\",\n",
    "# \"Vreewijk\",\n",
    "# \"Lombardijen\",\n",
    "# \"Oud-IJsselmonde/Stadion\",\n",
    "# \"Beverwaard\",\n",
    "# \"Groot-IJsselmonde\",\n",
    "# \"Tarwewijk/Maashaven\",\n",
    "\"Oud-Charlois\",\n",
    "\"Carnisse/Zuidplein\",\n",
    "# \"Zuiderpark/Wielewaal/Charlois\",\n",
    "# \"Zuidwijk\",\n",
    "# \"Pendrecht\",\n",
    "# \"Oud-Charlois/Waalhaven-Noord\",\n",
    "\"Waalhaven\"\n",
    "# \"Heijplaat\"\n",
    "]\n"
   ]
  },
  {
   "cell_type": "markdown",
   "metadata": {},
   "source": [
    "### Initialize variables\n",
    "\n",
    "During the course of data collection we will use Google Distance Matrix API and Foursquare Developer API's( therefore you need to have proper accounts Google Cloud Platform Account and Foursquare developer accounts) In order to make those API calls, we need to have some credentials such as Google API'keys and Foursquare Client Id & Secret. Let's set them below properly."
   ]
  },
  {
   "cell_type": "code",
   "execution_count": 3,
   "metadata": {},
   "outputs": [],
   "source": [
    "walking_duration=900 # walking distance from hotel to venues in seconds\n",
    "\n",
    "fsq_version = '20180605' # Foursquare API version\n",
    "fsq_limit = 100 # limit of number of venues returned by Foursquare API\n",
    "fsq_venues_in_radius=1000 # search venues within this radius from city center\n",
    "\n",
    "# Credentials to make Foursquare API Calls\n",
    "# Set FSQ_CLIENT_ID,FSQ_CLIENT_SECRET as shell environment variable\n",
    "fsq_client_id = os.environ.get('FSQ_CLIENT_ID')   #  Foursquare Developer API credential - Client Id\n",
    "fsq_client_secret = os.environ.get('FSQ_CLIENT_SECRET') #  Foursquare Developer API credential - Client Secret\n",
    "\n",
    "# Google API key to make Google Map API calls (distance matrix api, geolocation api etc)\n",
    "# Set GOOGLE_API_KEY as shell environment variable\n",
    "google_api_key = os.environ.get('GOOGLE_API_KEY')\n",
    "\n",
    "fsq_venue_categories_filter = [\n",
    "    { 'category': 'Hotel',                 'id': '4bf58dd8d48988d1fa931735'},\n",
    "    { 'category': 'Movie Theater',         'id': '4bf58dd8d48988d17f941735'},\n",
    "    { 'category': 'Theater',               'id': '4bf58dd8d48988d137941735'},  \n",
    "    { 'category': 'French Restaurant',     'id': '4bf58dd8d48988d10c941735'},\n",
    "    { 'category': 'Muesum',                'id': '4bf58dd8d48988d181941735'},\n",
    "    { 'category': 'Music Venue',           'id': '4bf58dd8d48988d1e5931735'},\n",
    "    { 'category': 'Performing Arts Venue', 'id': '4bf58dd8d48988d1f2931735'},    \n",
    "    { 'category': 'Bistro',                'id': '52e81612bcbc57f1066b79f1'}\n",
    "]\n",
    "fsq_venue_categories_filter_df = pd.DataFrame(fsq_venue_categories_filter)\n",
    "\n",
    "categories = ','.join(list(fsq_venue_categories_filter_df['id'].values))\n",
    "category_list = fsq_venue_categories_filter_df['id'].values\n"
   ]
  },
  {
   "cell_type": "markdown",
   "metadata": {},
   "source": [
    "\n",
    "***\n",
    "# Functions used in this project\n",
    "***"
   ]
  },
  {
   "cell_type": "markdown",
   "metadata": {},
   "source": [
    "### Function to scrape neighbourhoods from Wikipedia\n",
    "\n",
    "Using **BeatifulSoup**, this function scrapes the neighbourhoods from following wikipedia page. Note that this function can scrape only the specific page given below.\n",
    "- [Neighbourhoods of Rotterdam](https://nl.wikipedia.org/wiki/Lijst_van_postcodes_3000-3999_in_Nederland)\n",
    "      "
   ]
  },
  {
   "cell_type": "code",
   "execution_count": 4,
   "metadata": {},
   "outputs": [],
   "source": [
    "def scrape_neighbourhoods_rotterdam():\n",
    "    \n",
    "    def prepare_neigbourhood_list(root_element):\n",
    "        for neigbourhood_li_element in root_element:\n",
    "            neigbourhood_name_list=[]\n",
    "            if neigbourhood_li_element.find(\"a\") != -1:\n",
    "                postal_code_string=neigbourhood_li_element.contents[0].strip()\n",
    "                postal_codes=postal_code_string.split(\"-\")\n",
    "\n",
    "                for neigbourhood_a_element in neigbourhood_li_element.findAll(\"a\"):\n",
    "                    neigbourhood_name_list.append(neigbourhood_a_element.get_text())\n",
    "                \n",
    "                neigbourhood_name='/'.join(neigbourhood_name_list)\n",
    "\n",
    "                if len(postal_codes) == 2:                \n",
    "                    neigbourhood_list.append({'Neighbourhood Postal Code':postal_codes[0], 'Neighbourhood':neigbourhood_name})\n",
    "                    neigbourhood_list.append({'Neighbourhood Postal Code':postal_codes[1], 'Neighbourhood':neigbourhood_name})\n",
    "                else: \n",
    "                    neigbourhood_list.append({'Neighbourhood Postal Code':postal_codes[0], 'Neighbourhood':neigbourhood_name})\n",
    "\n",
    "    resp=requests.get('https://nl.wikipedia.org/wiki/Lijst_van_postcodes_3000-3999_in_Nederland')\n",
    "\n",
    "    assert  resp.status_code == 200, \"Http link to postal codes is not valid!\"\n",
    "    soup = BeautifulSoup(resp.text, 'html.parser')\n",
    "\n",
    "    root_element=soup.find(\"a\",title=\"Rotterdam Rechter Maasoever\").parent.find(\"ul\")\n",
    "    prepare_neigbourhood_list(root_element)\n",
    "\n",
    "    root_element=soup.find(\"a\",title=\"Rotterdam-Zuid\").parent.find(\"ul\")\n",
    "    prepare_neigbourhood_list(root_element)\n",
    "    \n",
    "    #  For given address of a neighbourhood, get geographic coordinates using geocoder \n",
    "    for neighbourhood_dict in neigbourhood_list:\n",
    "        neighbourhood_address=neighbourhood_dict['Neighbourhood Postal Code'] + ', Rotterdam, NL'    \n",
    "        g = geocoder.google(neighbourhood_address)\n",
    "        neighbourhood_dict['Latitude']=g.latlng[0]\n",
    "        neighbourhood_dict['Longitude']=g.latlng[1]\n",
    "\n",
    "        print(\"Neighbourhood : {} Lat-Long : {}\".format(neighbourhood_dict['Neighbourhood'], g.latlng))     \n"
   ]
  },
  {
   "cell_type": "markdown",
   "metadata": {},
   "source": [
    "### Function to get walking distance from hotels to venues in seconds\n",
    "Using Google Distance Matrix API, this function calculates the distance between for each given hotel en venue pairs stored in \"row\" parameter. \n"
   ]
  },
  {
   "cell_type": "code",
   "execution_count": 5,
   "metadata": {},
   "outputs": [],
   "source": [
    "def getDistanceDuration(row):    \n",
    "\n",
    "        # set coordinates\n",
    "        source = '{},{}'.format(row['Hotel Latitude'], row['Hotel Longitude'])\n",
    "        dest= '{},{}'.format(row['Venue Latitude'], row['Venue Longitude'])\n",
    "            \n",
    "        # url variable store url  \n",
    "        url ='https://maps.googleapis.com/maps/api/distancematrix/json?'\n",
    "        \n",
    "        # Get method of requests module \n",
    "        # return response object \n",
    "        r = requests.get(url + 'units=metric'\n",
    "                        '&mode=walking'\n",
    "                        '&origins=' + source +\n",
    "                        '&destinations=' + dest +\n",
    "                        '&key=' + google_api_key) \n",
    "                            \n",
    "        # json method of response object \n",
    "        # return json format result \n",
    "        res = r.json() \n",
    "        distance_to_venue=res['rows'][0]['elements'][0]['distance']['value']\n",
    "        time_to_venue=res['rows'][0]['elements'][0]['duration']['value']\n",
    "        \n",
    "        print('{} => Hotel :{} Venue:{} Distance:{}'.format(count_api_call,row['Hotel'],row['Venue'],distance_to_venue))\n",
    "\n",
    "        return pd.Series([distance_to_venue,time_to_venue])\n"
   ]
  },
  {
   "cell_type": "markdown",
   "metadata": {},
   "source": [
    "### Function to get venues within given radius from the centre of the Neighbourhood\n",
    "Using Foursquare developer API, this function fetches all the venues based on the given venue categories falling into the radius from the center of the destination city."
   ]
  },
  {
   "cell_type": "code",
   "execution_count": 6,
   "metadata": {},
   "outputs": [],
   "source": [
    "def getNearbyVenues(neigbourhoods, postal_codes, latitudes, longitudes, radius=500):    \n",
    "    venues_list=[]\n",
    "    for neigbourhood_name, neighbourhood_postal_code, lat, lng in zip(neigbourhoods, postal_codes, latitudes, longitudes):\n",
    "        print(neigbourhood_name)\n",
    "            \n",
    "        # create the API request URL to search venues around the given coordinates of ll(latitude,longitude)\n",
    "        url = 'https://api.foursquare.com/v2/venues/search?&client_id={}&client_secret={}&v={}&ll={},{}&categoryId={}&radius={}&limit={}'.format(\n",
    "            fsq_client_id, \n",
    "            fsq_client_secret, \n",
    "            fsq_version, \n",
    "            lat, \n",
    "            lng, \n",
    "            categories,\n",
    "            radius, \n",
    "            fsq_limit)\n",
    "            \n",
    "        # make the GET request\n",
    "        results = requests.get(url).json()[\"response\"]['venues']\n",
    "\n",
    "        # return only relevant information for each nearby venue    \n",
    "        venues_list.append([(\n",
    "            neigbourhood_name, \n",
    "            neighbourhood_postal_code,\n",
    "            lat, \n",
    "            lng, \n",
    "            v['name'], \n",
    "            v['location']['lat'], \n",
    "            v['location']['lng'], \n",
    "            v['location']['distance'], \n",
    "            (lambda v: v['location']['postalCode'] if 'postalCode' in v['location'] else 'Empty')(v), \n",
    "            (lambda v: v['location']['formattedAddress'] if 'address' in v['location'] else 'Empty')(v), \n",
    "            v['categories'][0]['name']) for v in results\n",
    "                # venue's category should be a primary category contained in category_list\n",
    "                if list(filter(lambda x: x['primary'], v['categories']))[0]['id'] in category_list \n",
    "            ])\n",
    "\n",
    "    # prepare the relevant dataframe for all the venues fetched from Foursquare\n",
    "    nearby_venues = pd.DataFrame([item for venue_list in venues_list for item in venue_list])\n",
    "    nearby_venues.columns = ['Neighbourhood', \n",
    "                  'Neighbourhood Postal Code',\n",
    "                  'Neighbourhood Latitude', \n",
    "                  'Neighbourhood Longitude', \n",
    "                  'Venue',                    \n",
    "                  'Venue Latitude', \n",
    "                  'Venue Longitude', \n",
    "                  'Venue Distance',                              \n",
    "                  'Venue Postal Code', \n",
    "                  'Venue formattedAddress',            \n",
    "                  'Venue Category']\n",
    "    \n",
    "    return(nearby_venues)"
   ]
  },
  {
   "cell_type": "markdown",
   "metadata": {},
   "source": [
    "### Function to deal with missing postal codes of some venues\n",
    "After fetching the venues, we have observed that some venue's addresses were missing. We know that postal code is a very important feature that need to be filled with. Since one of main objective is to fullfill the requirement of finding out number of venues in a given neighbourhood. \n",
    "- This function below can fetch the postal codes for a given location addressed with geographic coordinates. It uses **geocoder** module which in turn uses Google Maps Geolocation API's\n"
   ]
  },
  {
   "cell_type": "code",
   "execution_count": 7,
   "metadata": {},
   "outputs": [],
   "source": [
    "cnt=0\n",
    "def getPostal(row):\n",
    "    global cnt\n",
    "    if (row['Venue Postal Code'] == 'Empty'):\n",
    "        rg=geocoder.google([row['Venue Latitude'],row['Venue Longitude']], method='reverse')\n",
    "        resJson2=rg.geojson\n",
    "        postal=resJson2['features'][0]['properties']['postal']\n",
    "        postal_prefix=postal.split(' ')[0][:4]\n",
    "        result_series=pd.Series([postal_prefix,postal])\n",
    "    else: \n",
    "        postal_prefix=row['Venue Postal Code'].split(' ')[0][:4]\n",
    "        result_series=pd.Series([postal_prefix,row['Venue Postal Code']])\n",
    "\n",
    "    cnt += 1\n",
    "    print('Row No: {} => Neighbourhood: {} Venue: {} Lat-Long: {},{}'.format(cnt,row['Neighbourhood'],row['Venue'],row['Venue Latitude'],row['Venue Longitude']))\n",
    "    return result_series\n"
   ]
  },
  {
   "cell_type": "markdown",
   "metadata": {},
   "source": [
    "### Function to visualize neighbourhoods on OpenStreetMap"
   ]
  },
  {
   "cell_type": "code",
   "execution_count": 8,
   "metadata": {},
   "outputs": [],
   "source": [
    "# create map demonstrating the segmentation of neighbourhoods\n",
    "def showNeighbourdsInMap(neighbourhoods_df, city_address, lat=None, long=None):\n",
    "\n",
    "    if lat and long:\n",
    "        latitude = lat\n",
    "        longitude = long\n",
    "    else:            \n",
    "        geolocator = Nominatim(user_agent=\"coursera-battle-of-neighbourhood\")\n",
    "        location = geolocator.geocode(city_address)\n",
    "        latitude = location.latitude\n",
    "        longitude = location.longitude\n",
    "        \n",
    "    print('The geograpical coordinate of Rotterdam are {}, {}.'.format(latitude, longitude))\n",
    "\n",
    "    map_clusters = folium.Map(location=[latitude, longitude], zoom_start=12)\n",
    "\n",
    "    # set color scheme for the clusters\n",
    "    x = np.arange(kclusters)\n",
    "    ys = [i+x+(i*x)**2 for i in range(kclusters)]\n",
    "    colors_array = cm.Dark2(np.linspace(0, 1, len(ys)))\n",
    "    rainbow = [colors.rgb2hex(i) for i in colors_array]\n",
    "\n",
    "    # add markers to the map\n",
    "    # markers_colors = []\n",
    "    for lat, lon, poi, poi_postal, cluster in zip(\n",
    "                        neighbourhoods_df['Latitude'],\n",
    "                        neighbourhoods_df['Longitude'],\n",
    "                        neighbourhoods_df.reset_index()['Neighbourhood'],\n",
    "                        neighbourhoods_df.reset_index()['Neighbourhood Postal Code'],\n",
    "                        neighbourhoods_df['Cluster Labels']):\n",
    "        label = folium.Popup(str(poi) + '-\\n' + str(poi_postal) + ' Cluster ' + str(cluster), parse_html=True)\n",
    "        folium.CircleMarker(\n",
    "            [lat, lon],\n",
    "            radius=5,\n",
    "            popup=label,\n",
    "            color=rainbow[cluster-1],\n",
    "            fill=True,\n",
    "            fill_color=rainbow[cluster-1],\n",
    "            fill_opacity=0.7).add_to(map_clusters)\n",
    "        \n",
    "    return map_clusters\n"
   ]
  },
  {
   "cell_type": "markdown",
   "metadata": {},
   "source": [
    "### Initialize variables related persisting fetched data\n",
    "We are caching fetched data from  from Wikipedia, Foursquare and Google Maps for the following reasons\n",
    "- The data we fetch is not changing dynamicaly.\n",
    "- By the help of caching, we can avoid chance of exceeding daily API call limits inadvertantly\n",
    "\n",
    "Neighbourhoods data that is scraped from Wikipedia is cached in file NEIGBOURHOODS_CSV\n",
    "Venues fetched from Foursquare is cached in file VENUES_CSV\n",
    "Hotel - Venu walking distance (queried by Google Distance Matrix API) and related venue features are kept in file HOTEL_VENUE_RELATION_CSV"
   ]
  },
  {
   "cell_type": "code",
   "execution_count": 9,
   "metadata": {},
   "outputs": [],
   "source": [
    "NEIGBOURHOODS_CSV='./{}'.format('neighbourhoods.csv')\n",
    "neighbourhoods_csv_exist = os.path.isfile(NEIGBOURHOODS_CSV)\n",
    "\n",
    "VENUES_CSV='./{}'.format('venues.csv')\n",
    "venues_csv_exist = os.path.isfile(VENUES_CSV)\n",
    "\n",
    "HOTEL_VENUE_RELATION_CSV='./{}'.format('hotel_venue_relation.csv')\n",
    "relation_csv_exist = os.path.isfile(HOTEL_VENUE_RELATION_CSV)\n"
   ]
  },
  {
   "cell_type": "markdown",
   "metadata": {},
   "source": [
    "### Get Neighbourhoods\n",
    "Scrape neighbourhoods data if not cached in local file system"
   ]
  },
  {
   "cell_type": "code",
   "execution_count": 10,
   "metadata": {},
   "outputs": [],
   "source": [
    "if not neighbourhoods_csv_exist:\n",
    "    scrape_neighbourhoods_rotterdam()\n",
    "    neighbourhood_df=pd.DataFrame(neigbourhood_list)\n",
    "    neighbourhood_df=neighbourhood_df[['Neighbourhood','Neighbourhood Postal Code','Latitude','Longitude']]\n",
    "    neighbourhood_df.to_csv(NEIGBOURHOODS_CSV,index=False)\n",
    "else:    \n",
    "    neighbourhood_df=pd.read_csv(NEIGBOURHOODS_CSV,dtype={'Neighbourhood Postal Code': str})\n",
    "\n",
    "some_neighbourhoods=neighbourhood_df['Neighbourhood'].isin(neighbourhood_filter)\n",
    "neighbourhood_df=neighbourhood_df[some_neighbourhoods]\n"
   ]
  },
  {
   "cell_type": "markdown",
   "metadata": {},
   "source": [
    "### Get Foursquare venues data\n",
    "Fetch venues data from Foursquare if it is not cached in local file system"
   ]
  },
  {
   "cell_type": "code",
   "execution_count": 11,
   "metadata": {},
   "outputs": [],
   "source": [
    "FORCE_REFRESH_API_DATA=False\n",
    "if not venues_csv_exist or FORCE_REFRESH_API_DATA :    \n",
    "    # Get nearby venues of the neighbourhood. Venues within a circle defined by the radius from the\n",
    "    # center of neighbourhood will be selected\n",
    "    venues_df=getNearbyVenues(neighbourhood_df['Neighbourhood'],neighbourhood_df['Neighbourhood Postal Code'], neighbourhood_df['Latitude'], neighbourhood_df['Longitude'],fsq_venues_in_radius)\n",
    "\n",
    "    # clean venues that do not have a proper address\n",
    "    is_empty=venues_df[\"Venue formattedAddress\"]==\"Empty\"\n",
    "    venues_df=venues_df[~is_empty] # not empty\n",
    "\n",
    "    # update empty postal codes using reverse geocoding\n",
    "    if not 'Venue Postal Code Prefix' in venues_df.columns:\n",
    "        venues_df[['Venue Postal Code Prefix','Venue Postal Code']] = venues_df.apply(getPostal, axis=1)\n",
    "\n",
    "    # persist venues \n",
    "    venues_df.to_csv(VENUES_CSV,index=False) \n",
    "else:\n",
    "    assert venues_csv_exist,\"ERR> venues.csv does not exists!!!\"\n",
    "    venues_df = pd.read_csv(VENUES_CSV,dtype={'Neighbourhood Postal Code': str})\n",
    "\n",
    "# We have been asked Four Square API to return venues within given radius of Neighbourhoods\n",
    "# But as you guess some venues will belong to another Neighbourhood.\n",
    "venues_df['Neighbourhood Postal Code']=venues_df['Neighbourhood Postal Code'].astype(str)\n",
    "venues_df['Venue Postal Code Prefix']=venues_df['Venue Postal Code Prefix'].astype(str)\n",
    "# postal_equal=venues_df['Neighbourhood Postal Code'] == venues_df['Venue Postal Code Prefix']\n",
    "# postal_equal=venues_df['Neighbourhood Postal Code'] == venues_df['Venue Postal Code Prefix']\n",
    "#venues_df=venues_df[postal_equal]\n"
   ]
  },
  {
   "cell_type": "markdown",
   "metadata": {},
   "source": [
    "### Prepare Hotel - Venue Relation Data\n",
    "If hotel venue relation is not cached then\n",
    "- Construct hvr_df dataframe which is hotel venue relation dataframe\n",
    "- Get hotel - venue walking distance using Google Distance Matrix API\n",
    "- Associate venues within given walking distance to Hotels\n",
    "- Cache hvr_df to the local file system ( to HOTEL_VENUE_RELATION_CSV)"
   ]
  },
  {
   "cell_type": "code",
   "execution_count": 12,
   "metadata": {},
   "outputs": [],
   "source": [
    "FORCE_REFRESH_API_DATA=False\n",
    "if not relation_csv_exist or FORCE_REFRESH_API_DATA :\n",
    "    # PREPARE Hotel <-> Venue relation\n",
    "    hotels_df=venues_df[venues_df['Venue Category'].str.contains('hotel',case=False)]\n",
    "    hotels_df=hotels_df[['Neighbourhood','Neighbourhood Postal Code','Venue','Venue Latitude','Venue Longitude','Venue Postal Code Prefix','Venue Postal Code']]\n",
    "    hotels_df.columns=['Neighbourhood','Neighbourhood Postal Code','Hotel','Hotel Latitude','Hotel Longitude','Hotel Postal Code Prefix','Hotel Postal Code']\n",
    "\n",
    "    venues_min_hotels_df=venues_df[~venues_df['Venue Category'].str.contains('hotel',case=False)]\n",
    "    venues_min_hotels_df=venues_min_hotels_df[['Neighbourhood','Neighbourhood Postal Code','Venue','Venue Category','Venue Latitude','Venue Longitude','Venue Postal Code Prefix','Venue Postal Code']]\n",
    "    venues_min_hotels_df.columns=['Neighbourhood','Neighbourhood Postal Code','Venue','Venue Category','Venue Latitude','Venue Longitude','Venue Postal Code Prefix','Venue Postal Code']\n",
    "\n",
    "    # Create hotel venue relation dataframe = hvr_df\n",
    "    # hvr_df is the cartesian product  : hotels_df * venues_min_hotels_df\n",
    "    hvr_df=pd.merge(hotels_df, venues_min_hotels_df, on=['Neighbourhood','Neighbourhood Postal Code'])\n",
    "\n",
    "    # Eleminate Hotels which does not have the same postal code of its neighbourhood.\n",
    "    # Note that hotel venues are fetched from Foursquare for a given Neighbourhood when they fall into the raidus from geographic coordinates of the neighbourhood \n",
    "    # But this does not necessarily mean they will have same postal code with their associated neighbourhood\n",
    "    # Eleminate Hotels which does not have same postal code with their associated neighbourhood\n",
    "    same_neighbouurhood_hotels=hvr_df['Neighbourhood Postal Code'] == hvr_df['Hotel Postal Code Prefix']\n",
    "    hvr_df=hvr_df[same_neighbouurhood_hotels]\n",
    "\n",
    "    # Add some calculated new columns\n",
    "    hvr_df['General Venue Category']=hvr_df['Venue Category'].apply(lambda v: 'Museum' if v.lower().find('museum') > -1 else v)\n",
    "    hvr_df['Venue Postal Code Prefix']=hvr_df['Venue Postal Code Prefix'].apply(lambda v: v.strip()[:4])\n",
    "    hvr_df['Hotel Postal Code Prefix']=hvr_df['Hotel Postal Code Prefix'].apply(lambda v: v.strip()[:4])\n",
    "    \n",
    "    # drop rows which have hotels and venues not in the same postal code region \n",
    "    # postal_not_equal=hvr_df['Hotel Postal Code Prefix'] != hvr_df['Venue Postal Code Prefix']\n",
    "    # hvr_df.drop(hvr_df[postal_not_equal].index, inplace=True)\n",
    "\n",
    "    # get walking distance from hotels to venues\n",
    "    # NOTE  that in case of many neighbourhoods inclueded in the analysis;\n",
    "    # the number of google API Distance matrix calls might exceed daily quota of free API calls. \n",
    "    if not 'Distance To Hotel' in hvr_df.columns:\n",
    "        hvr_df[['Distance To Hotel','Time To Hotel']] = hvr_df.apply(getDistanceDuration, axis=1)\n",
    "\n",
    "    hvr_df.to_csv(HOTEL_VENUE_RELATION_CSV,index=False)\n",
    "else:    \n",
    "    assert relation_csv_exist,\"ERR > hvr_df.csv does not exist!!!\"\n",
    "    hvr_df = pd.read_csv(HOTEL_VENUE_RELATION_CSV,dtype={'Neighbourhood Postal Code': str})\n",
    "\n",
    "# Use \"cut\" when to segment time to walk from hotel to venue\n",
    "# keep the number of google API Distance matrix acceptable level to avoid unexpected costs!\n",
    "walking_duration_labels = [\"{0} - {1} mins walk\".format(i/60,i/60+5) for i in range(0, 3600, 300)]\n",
    "hvr_df['Walking Duration Category']=pd.cut(hvr_df['Time To Hotel'], range(0, 3601, 300), right=False, labels=walking_duration_labels)\n",
    "\n",
    "# Eleminate venues out of given walking distance\n",
    "in_walking_distance=hvr_df['Time To Hotel'] <= walking_duration\n",
    "hvr_df=hvr_df[in_walking_distance]\n"
   ]
  },
  {
   "cell_type": "markdown",
   "metadata": {},
   "source": [
    "***\n",
    "# 4. Clustering Data\n",
    "***"
   ]
  },
  {
   "cell_type": "markdown",
   "metadata": {},
   "source": [
    "### Preparing Data for Clustering\n",
    "Prepare dataframe for applying K-Mean Clustering Algorithm to cluster neighbourhoods"
   ]
  },
  {
   "cell_type": "code",
   "execution_count": 13,
   "metadata": {},
   "outputs": [
    {
     "data": {
      "text/html": [
       "<div>\n",
       "<style scoped>\n",
       "    .dataframe tbody tr th:only-of-type {\n",
       "        vertical-align: middle;\n",
       "    }\n",
       "\n",
       "    .dataframe tbody tr th {\n",
       "        vertical-align: top;\n",
       "    }\n",
       "\n",
       "    .dataframe thead th {\n",
       "        text-align: right;\n",
       "    }\n",
       "</style>\n",
       "<table border=\"1\" class=\"dataframe\">\n",
       "  <thead>\n",
       "    <tr style=\"text-align: right;\">\n",
       "      <th></th>\n",
       "      <th></th>\n",
       "      <th>Avg Venue Per Hotel In Given Walking Distance</th>\n",
       "      <th>Avg Walking Time To Hotel</th>\n",
       "      <th>Total Hotel Count</th>\n",
       "      <th>Total Venue Count</th>\n",
       "    </tr>\n",
       "    <tr>\n",
       "      <th>Neighbourhood</th>\n",
       "      <th>Neighbourhood Postal Code</th>\n",
       "      <th></th>\n",
       "      <th></th>\n",
       "      <th></th>\n",
       "      <th></th>\n",
       "    </tr>\n",
       "  </thead>\n",
       "  <tbody>\n",
       "    <tr>\n",
       "      <th>Afrikaanderwijk/Katendrecht</th>\n",
       "      <th>3072</th>\n",
       "      <td>11.400000</td>\n",
       "      <td>541.000000</td>\n",
       "      <td>5</td>\n",
       "      <td>21</td>\n",
       "    </tr>\n",
       "    <tr>\n",
       "      <th>Cool/Rotterdam Centrum</th>\n",
       "      <th>3012</th>\n",
       "      <td>10.833333</td>\n",
       "      <td>573.833333</td>\n",
       "      <td>6</td>\n",
       "      <td>14</td>\n",
       "    </tr>\n",
       "    <tr>\n",
       "      <th>Coolhaveneiland</th>\n",
       "      <th>3024</th>\n",
       "      <td>14.000000</td>\n",
       "      <td>352.500000</td>\n",
       "      <td>2</td>\n",
       "      <td>18</td>\n",
       "    </tr>\n",
       "    <tr>\n",
       "      <th>Dijkzigt</th>\n",
       "      <th>3015</th>\n",
       "      <td>12.333333</td>\n",
       "      <td>411.000000</td>\n",
       "      <td>3</td>\n",
       "      <td>16</td>\n",
       "    </tr>\n",
       "    <tr>\n",
       "      <th>Feijenoord/Noordereiland/Kop van Zuid</th>\n",
       "      <th>3071</th>\n",
       "      <td>9.000000</td>\n",
       "      <td>545.000000</td>\n",
       "      <td>1</td>\n",
       "      <td>15</td>\n",
       "    </tr>\n",
       "    <tr>\n",
       "      <th>Middelland</th>\n",
       "      <th>3021</th>\n",
       "      <td>8.000000</td>\n",
       "      <td>611.500000</td>\n",
       "      <td>3</td>\n",
       "      <td>16</td>\n",
       "    </tr>\n",
       "    <tr>\n",
       "      <th>Oude Westen</th>\n",
       "      <th>3014</th>\n",
       "      <td>9.000000</td>\n",
       "      <td>595.000000</td>\n",
       "      <td>1</td>\n",
       "      <td>16</td>\n",
       "    </tr>\n",
       "    <tr>\n",
       "      <th>Rotterdam Centraal/Weena</th>\n",
       "      <th>3013</th>\n",
       "      <td>14.000000</td>\n",
       "      <td>529.500000</td>\n",
       "      <td>1</td>\n",
       "      <td>18</td>\n",
       "    </tr>\n",
       "    <tr>\n",
       "      <th>Scheepvaartkwartier/Nieuwe Werk</th>\n",
       "      <th>3016</th>\n",
       "      <td>8.000000</td>\n",
       "      <td>486.000000</td>\n",
       "      <td>1</td>\n",
       "      <td>18</td>\n",
       "    </tr>\n",
       "    <tr>\n",
       "      <th>Stadsdriehoek/Rotterdam Centrum</th>\n",
       "      <th>3011</th>\n",
       "      <td>4.000000</td>\n",
       "      <td>560.500000</td>\n",
       "      <td>6</td>\n",
       "      <td>12</td>\n",
       "    </tr>\n",
       "  </tbody>\n",
       "</table>\n",
       "</div>"
      ],
      "text/plain": [
       "                                                                 Avg Venue Per Hotel In Given Walking Distance  Avg Walking Time To Hotel  Total Hotel Count  Total Venue Count\n",
       "Neighbourhood                         Neighbourhood Postal Code                                                                                                                \n",
       "Afrikaanderwijk/Katendrecht           3072                                                           11.400000                 541.000000                  5                 21\n",
       "Cool/Rotterdam Centrum                3012                                                           10.833333                 573.833333                  6                 14\n",
       "Coolhaveneiland                       3024                                                           14.000000                 352.500000                  2                 18\n",
       "Dijkzigt                              3015                                                           12.333333                 411.000000                  3                 16\n",
       "Feijenoord/Noordereiland/Kop van Zuid 3071                                                            9.000000                 545.000000                  1                 15\n",
       "Middelland                            3021                                                            8.000000                 611.500000                  3                 16\n",
       "Oude Westen                           3014                                                            9.000000                 595.000000                  1                 16\n",
       "Rotterdam Centraal/Weena              3013                                                           14.000000                 529.500000                  1                 18\n",
       "Scheepvaartkwartier/Nieuwe Werk       3016                                                            8.000000                 486.000000                  1                 18\n",
       "Stadsdriehoek/Rotterdam Centrum       3011                                                            4.000000                 560.500000                  6                 12"
      ]
     },
     "execution_count": 13,
     "metadata": {},
     "output_type": "execute_result"
    }
   ],
   "source": [
    "# find total venues count ( other then hotels ) per neighbourhood\n",
    "venues_min_hotels_df=venues_df[~venues_df['Venue Category'].str.contains('hotel',case=False)]\n",
    "venues_count_series=venues_min_hotels_df.groupby(['Neighbourhood', 'Neighbourhood Postal Code'])['Venue'].count()\n",
    "venues_count_df=pd.DataFrame(venues_count_series)\n",
    "venues_count_df.columns=['Total Venue Count']\n",
    "\n",
    "# hvr_grouped_df=hvr_df.groupby(['Neighbourhood','Neighbourhood Postal Code','Hotel','General Venue Category']).agg({'Venue': np.size, 'Time To Hotel':np.median}).reset_index()\n",
    "hvr_grouped_df=hvr_df.groupby(['Neighbourhood','Neighbourhood Postal Code','Hotel']).agg({'Venue': np.size, 'Time To Hotel':np.median}).reset_index()\n",
    "model_df=hvr_grouped_df.groupby(['Neighbourhood','Neighbourhood Postal Code']).agg({'Venue': np.mean, 'Time To Hotel':np.mean, 'Hotel':np.size})\n",
    "model_df.columns=['Avg Venue Per Hotel In Given Walking Distance', 'Avg Walking Time To Hotel', 'Total Hotel Count']\n",
    "model_df=model_df.join(venues_count_df)\n",
    "\n",
    "model_df\n"
   ]
  },
  {
   "cell_type": "markdown",
   "metadata": {},
   "source": [
    "### Scaling Data for Clustering\n",
    "\"Avg Walking Time To Hotel\" values are huge when compared to \"Avg Venue Per Hotel\" or \"Total Hotel Count\" column values.\n",
    "\n",
    "Let's normalize the dataset. \n",
    "But why do we need scaling data in the first place? \n",
    "- Normalization/Scaling is a statistical method that helps mathematical-based algorithms to interpret features with different magnitudes and distributions equally.\n"
   ]
  },
  {
   "cell_type": "code",
   "execution_count": 14,
   "metadata": {},
   "outputs": [],
   "source": [
    "clustering_df = model_df.reset_index().drop(columns=['Neighbourhood','Neighbourhood Postal Code'], axis=1)\n",
    "\n",
    "scaler = StandardScaler()\n",
    "scaler.fit(clustering_df) \n",
    "\n",
    "scaled_features=scaler.transform(clustering_df)\n",
    "scaled_model_df = pd.DataFrame(scaled_features, index=clustering_df.index, columns=clustering_df.columns)\n",
    "\n",
    "\n",
    "# scaled_features= StandardScaler().fit_transform(clustering_df.values)\n",
    "# scaled_model_df = pd.DataFrame(scaled_features, index=clustering_df.index, columns=clustering_df.columns)\n",
    "\n",
    "clustering_df = model_df.reset_index().drop(columns=['Neighbourhood','Neighbourhood Postal Code'], axis=1)\n",
    "\n",
    "scaled_features= StandardScaler().fit_transform(clustering_df.values)\n",
    "scaled_model_df = pd.DataFrame(scaled_features, index=clustering_df.index, columns=clustering_df.columns)"
   ]
  },
  {
   "cell_type": "markdown",
   "metadata": {},
   "source": [
    "### Find the best K for clustering\n",
    "We need a way to measure the quality of our clusters when we implement our clustering algorithm to our data. \n",
    "Therefore we need to find the best K value. In order to find the best value of K, we run k-means clustering for different k values and find the elbow point which represents our best of K value.\n",
    "- Basicaly for each different value of K, we plot the model.inertia_ values ( elbow plot )\n",
    "- Small inertia values are good since it means our clusters are tight\n",
    "- But too many clusters is not also good even though clusters are thight\n",
    "- So we need to find the \"elbow\" of inertia plot which has small and optimum value of K"
   ]
  },
  {
   "cell_type": "code",
   "execution_count": 15,
   "metadata": {},
   "outputs": [
    {
     "data": {
      "image/png": "[encoded data removed]",
      "text/plain": [
       "<Figure size 432x288 with 1 Axes>"
      ]
     },
     "metadata": {},
     "output_type": "display_data"
    }
   ],
   "source": [
    "# set number of clusters\n",
    "ks = range(1, 11)\n",
    "inertias = []\n",
    "\n",
    "for k in ks:\n",
    "    # Create a KMeans instance with k clusters: model\n",
    "    model=KMeans(n_clusters=k)\n",
    "    \n",
    "    # Fit model to samples\n",
    "    model.fit(scaled_model_df)\n",
    "    \n",
    "    # Append the inertia to the list of inertias\n",
    "    inertias.append(model.inertia_)\n",
    "    \n",
    "# Plot ks vs inertias\n",
    "plt.plot(ks, inertias, '-o')\n",
    "plt.xlabel('number of clusters, k')\n",
    "plt.ylabel('inertia')\n",
    "plt.xticks(ks)\n",
    "plt.show()\n",
    "\n",
    "\n"
   ]
  },
  {
   "cell_type": "markdown",
   "metadata": {},
   "source": [
    "### Set best K and run K-Means algorithm\n",
    "From the plot above, it seems the best elbow point is for K is **6**\n",
    "Let's run K-Means algorithm.\n"
   ]
  },
  {
   "cell_type": "code",
   "execution_count": 16,
   "metadata": {},
   "outputs": [
    {
     "data": {
      "text/plain": [
       "array([0, 4, 3, 3, 2, 2, 2, 5, 2, 1], dtype=int32)"
      ]
     },
     "execution_count": 16,
     "metadata": {},
     "output_type": "execute_result"
    }
   ],
   "source": [
    "# run k-means clustering\n",
    "kclusters=6\n",
    "kmeans = KMeans(n_clusters=kclusters, random_state=0).fit(scaled_model_df)\n",
    "\n",
    "# check cluster labels generated for each row in the dataframe\n",
    "kmeans.labels_[0:scaled_model_df.shape[0]]\n"
   ]
  },
  {
   "cell_type": "markdown",
   "metadata": {},
   "source": [
    "***\n",
    "### Let's visualize the resulting clusters on OpenStreetMap\n",
    "\n",
    "***\n"
   ]
  },
  {
   "cell_type": "code",
   "execution_count": 17,
   "metadata": {
    "scrolled": false
   },
   "outputs": [
    {
     "data": {
      "text/html": [
       "<div>\n",
       "<style scoped>\n",
       "    .dataframe tbody tr th:only-of-type {\n",
       "        vertical-align: middle;\n",
       "    }\n",
       "\n",
       "    .dataframe tbody tr th {\n",
       "        vertical-align: top;\n",
       "    }\n",
       "\n",
       "    .dataframe thead th {\n",
       "        text-align: right;\n",
       "    }\n",
       "</style>\n",
       "<table border=\"1\" class=\"dataframe\">\n",
       "  <thead>\n",
       "    <tr style=\"text-align: right;\">\n",
       "      <th></th>\n",
       "      <th></th>\n",
       "      <th>Avg Venue Per Hotel In Given Walking Distance</th>\n",
       "      <th>Avg Walking Time To Hotel</th>\n",
       "      <th>Total Hotel Count</th>\n",
       "      <th>Total Venue Count</th>\n",
       "      <th>Latitude</th>\n",
       "      <th>Longitude</th>\n",
       "      <th>Cluster Labels</th>\n",
       "    </tr>\n",
       "    <tr>\n",
       "      <th>Neighbourhood</th>\n",
       "      <th>Neighbourhood Postal Code</th>\n",
       "      <th></th>\n",
       "      <th></th>\n",
       "      <th></th>\n",
       "      <th></th>\n",
       "      <th></th>\n",
       "      <th></th>\n",
       "      <th></th>\n",
       "    </tr>\n",
       "  </thead>\n",
       "  <tbody>\n",
       "    <tr>\n",
       "      <th>Afrikaanderwijk/Katendrecht</th>\n",
       "      <th>3072</th>\n",
       "      <td>11.400000</td>\n",
       "      <td>541.000000</td>\n",
       "      <td>5</td>\n",
       "      <td>21</td>\n",
       "      <td>51.901861</td>\n",
       "      <td>4.484299</td>\n",
       "      <td>0</td>\n",
       "    </tr>\n",
       "    <tr>\n",
       "      <th>Cool/Rotterdam Centrum</th>\n",
       "      <th>3012</th>\n",
       "      <td>10.833333</td>\n",
       "      <td>573.833333</td>\n",
       "      <td>6</td>\n",
       "      <td>14</td>\n",
       "      <td>51.919405</td>\n",
       "      <td>4.475769</td>\n",
       "      <td>4</td>\n",
       "    </tr>\n",
       "    <tr>\n",
       "      <th>Coolhaveneiland</th>\n",
       "      <th>3024</th>\n",
       "      <td>14.000000</td>\n",
       "      <td>352.500000</td>\n",
       "      <td>2</td>\n",
       "      <td>18</td>\n",
       "      <td>51.906818</td>\n",
       "      <td>4.457810</td>\n",
       "      <td>3</td>\n",
       "    </tr>\n",
       "    <tr>\n",
       "      <th>Dijkzigt</th>\n",
       "      <th>3015</th>\n",
       "      <td>12.333333</td>\n",
       "      <td>411.000000</td>\n",
       "      <td>3</td>\n",
       "      <td>16</td>\n",
       "      <td>51.911750</td>\n",
       "      <td>4.468044</td>\n",
       "      <td>3</td>\n",
       "    </tr>\n",
       "    <tr>\n",
       "      <th>Feijenoord/Noordereiland/Kop van Zuid</th>\n",
       "      <th>3071</th>\n",
       "      <td>9.000000</td>\n",
       "      <td>545.000000</td>\n",
       "      <td>1</td>\n",
       "      <td>15</td>\n",
       "      <td>51.911653</td>\n",
       "      <td>4.505364</td>\n",
       "      <td>2</td>\n",
       "    </tr>\n",
       "    <tr>\n",
       "      <th>Middelland</th>\n",
       "      <th>3021</th>\n",
       "      <td>8.000000</td>\n",
       "      <td>611.500000</td>\n",
       "      <td>3</td>\n",
       "      <td>16</td>\n",
       "      <td>51.917383</td>\n",
       "      <td>4.459214</td>\n",
       "      <td>2</td>\n",
       "    </tr>\n",
       "    <tr>\n",
       "      <th>Oude Westen</th>\n",
       "      <th>3014</th>\n",
       "      <td>9.000000</td>\n",
       "      <td>595.000000</td>\n",
       "      <td>1</td>\n",
       "      <td>16</td>\n",
       "      <td>51.919772</td>\n",
       "      <td>4.466089</td>\n",
       "      <td>2</td>\n",
       "    </tr>\n",
       "    <tr>\n",
       "      <th>Rotterdam Centraal/Weena</th>\n",
       "      <th>3013</th>\n",
       "      <td>14.000000</td>\n",
       "      <td>529.500000</td>\n",
       "      <td>1</td>\n",
       "      <td>18</td>\n",
       "      <td>51.924289</td>\n",
       "      <td>4.469251</td>\n",
       "      <td>5</td>\n",
       "    </tr>\n",
       "    <tr>\n",
       "      <th>Scheepvaartkwartier/Nieuwe Werk</th>\n",
       "      <th>3016</th>\n",
       "      <td>8.000000</td>\n",
       "      <td>486.000000</td>\n",
       "      <td>1</td>\n",
       "      <td>18</td>\n",
       "      <td>51.906240</td>\n",
       "      <td>4.473647</td>\n",
       "      <td>2</td>\n",
       "    </tr>\n",
       "    <tr>\n",
       "      <th>Stadsdriehoek/Rotterdam Centrum</th>\n",
       "      <th>3011</th>\n",
       "      <td>4.000000</td>\n",
       "      <td>560.500000</td>\n",
       "      <td>6</td>\n",
       "      <td>12</td>\n",
       "      <td>51.917658</td>\n",
       "      <td>4.486852</td>\n",
       "      <td>1</td>\n",
       "    </tr>\n",
       "  </tbody>\n",
       "</table>\n",
       "</div>"
      ],
      "text/plain": [
       "                                                                 Avg Venue Per Hotel In Given Walking Distance  Avg Walking Time To Hotel  Total Hotel Count  Total Venue Count   Latitude  Longitude  Cluster Labels\n",
       "Neighbourhood                         Neighbourhood Postal Code                                                                                                                                                      \n",
       "Afrikaanderwijk/Katendrecht           3072                                                           11.400000                 541.000000                  5                 21  51.901861   4.484299               0\n",
       "Cool/Rotterdam Centrum                3012                                                           10.833333                 573.833333                  6                 14  51.919405   4.475769               4\n",
       "Coolhaveneiland                       3024                                                           14.000000                 352.500000                  2                 18  51.906818   4.457810               3\n",
       "Dijkzigt                              3015                                                           12.333333                 411.000000                  3                 16  51.911750   4.468044               3\n",
       "Feijenoord/Noordereiland/Kop van Zuid 3071                                                            9.000000                 545.000000                  1                 15  51.911653   4.505364               2\n",
       "Middelland                            3021                                                            8.000000                 611.500000                  3                 16  51.917383   4.459214               2\n",
       "Oude Westen                           3014                                                            9.000000                 595.000000                  1                 16  51.919772   4.466089               2\n",
       "Rotterdam Centraal/Weena              3013                                                           14.000000                 529.500000                  1                 18  51.924289   4.469251               5\n",
       "Scheepvaartkwartier/Nieuwe Werk       3016                                                            8.000000                 486.000000                  1                 18  51.906240   4.473647               2\n",
       "Stadsdriehoek/Rotterdam Centrum       3011                                                            4.000000                 560.500000                  6                 12  51.917658   4.486852               1"
      ]
     },
     "execution_count": 17,
     "metadata": {},
     "output_type": "execute_result"
    }
   ],
   "source": [
    "\n",
    "neighbourhood_df.set_index(['Neighbourhood','Neighbourhood Postal Code'],inplace=True)\n",
    "\n",
    "# merge toronto_grouped with toronto_data to add latitude/longitude for each neighborhood\n",
    "# neighbourhood_model_df = neighbourhood_model_df.join(neighborhoods_venues_sorted.set_index('Neighborhood'), on='Neighborhood')\n",
    "neighbourhood_model_df=model_df.join(neighbourhood_df)\n",
    "\n",
    "# add clustering labels\n",
    "neighbourhood_model_df['Cluster Labels'] = kmeans.labels_\n",
    "\n",
    "neighbourhood_model_df\n"
   ]
  },
  {
   "cell_type": "markdown",
   "metadata": {},
   "source": [
    "### Show clustered neighbourhoods on OpenStreetMap"
   ]
  },
  {
   "cell_type": "code",
   "execution_count": 18,
   "metadata": {
    "scrolled": true
   },
   "outputs": [
    {
     "name": "stdout",
     "output_type": "stream",
     "text": [
      "The geograpical coordinate of Rotterdam are 51.91831445, 4.47647692560627.\n"
     ]
    },
    {
     "data": {
      "text/html": [
       "<div style=\"width:100%;\"><div style=\"position:relative;width:100%;height:0;padding-bottom:60%;\"><iframe src=\"data:text/html;charset=utf-8;base64,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\" style=\"position:absolute;width:100%;height:100%;left:0;top:0;border:none !important;\" allowfullscreen webkitallowfullscreen mozallowfullscreen></iframe></div></div>"
      ],
      "text/plain": [
       "<folium.folium.Map at 0x1a0f7e90f0>"
      ]
     },
     "execution_count": 18,
     "metadata": {},
     "output_type": "execute_result"
    }
   ],
   "source": [
    "showNeighbourdsInMap(neighbourhood_model_df,'Cool, Rotterdam, Netherlands')"
   ]
  },
  {
   "cell_type": "markdown",
   "metadata": {},
   "source": [
    "***\n",
    "# 5. Recommend the neighbourhoods to book hotels\n",
    "***\n",
    "\n",
    "Given the below travel requirement of a client, let's predict the best neighbourhoods.\n",
    "- Client would like to stay in hotels so that all the venues should be in reach by walking 10 minutes\n",
    "- Client would like stay in an hotel surronded with full of venues so that number venues per hotel in walking distance should be around 18 ( 2 venue per day for his/her 9 days visit) \n",
    "- Number of hotels in the neighbourhood should be at least 8 so that she/he can have more choices of price rates.\n",
    "- Number of venues in the neighbourhood is required to be around 25 \n",
    "\n"
   ]
  },
  {
   "cell_type": "code",
   "execution_count": 19,
   "metadata": {
    "scrolled": true
   },
   "outputs": [
    {
     "name": "stdout",
     "output_type": "stream",
     "text": [
      "Recommended Cluster's Label [0]\n"
     ]
    },
    {
     "data": {
      "text/html": [
       "<div>\n",
       "<style scoped>\n",
       "    .dataframe tbody tr th:only-of-type {\n",
       "        vertical-align: middle;\n",
       "    }\n",
       "\n",
       "    .dataframe tbody tr th {\n",
       "        vertical-align: top;\n",
       "    }\n",
       "\n",
       "    .dataframe thead th {\n",
       "        text-align: right;\n",
       "    }\n",
       "</style>\n",
       "<table border=\"1\" class=\"dataframe\">\n",
       "  <thead>\n",
       "    <tr style=\"text-align: right;\">\n",
       "      <th></th>\n",
       "      <th></th>\n",
       "      <th>Avg Venue Per Hotel In Given Walking Distance</th>\n",
       "      <th>Avg Walking Time To Hotel</th>\n",
       "      <th>Total Hotel Count</th>\n",
       "      <th>Total Venue Count</th>\n",
       "      <th>Latitude</th>\n",
       "      <th>Longitude</th>\n",
       "      <th>Cluster Labels</th>\n",
       "    </tr>\n",
       "    <tr>\n",
       "      <th>Neighbourhood</th>\n",
       "      <th>Neighbourhood Postal Code</th>\n",
       "      <th></th>\n",
       "      <th></th>\n",
       "      <th></th>\n",
       "      <th></th>\n",
       "      <th></th>\n",
       "      <th></th>\n",
       "      <th></th>\n",
       "    </tr>\n",
       "  </thead>\n",
       "  <tbody>\n",
       "    <tr>\n",
       "      <th>Afrikaanderwijk/Katendrecht</th>\n",
       "      <th>3072</th>\n",
       "      <td>11.4</td>\n",
       "      <td>541.0</td>\n",
       "      <td>5</td>\n",
       "      <td>21</td>\n",
       "      <td>51.901861</td>\n",
       "      <td>4.484299</td>\n",
       "      <td>0</td>\n",
       "    </tr>\n",
       "  </tbody>\n",
       "</table>\n",
       "</div>"
      ],
      "text/plain": [
       "                                                       Avg Venue Per Hotel In Given Walking Distance  Avg Walking Time To Hotel  Total Hotel Count  Total Venue Count   Latitude  Longitude  Cluster Labels\n",
       "Neighbourhood               Neighbourhood Postal Code                                                                                                                                                      \n",
       "Afrikaanderwijk/Katendrecht 3072                                                                11.4                      541.0                  5                 21  51.901861   4.484299               0"
      ]
     },
     "execution_count": 19,
     "metadata": {},
     "output_type": "execute_result"
    }
   ],
   "source": [
    "new_hotel_features= {\n",
    "    'Avg Venue Per Hotel In Given Walking Distance': [18.0],\n",
    "    'Avg Walking Time To Hotel': [600.0],\n",
    "    'Total Hotel Count': [8.0],\n",
    "    'Total Venue Count': [25.0]\n",
    "}\n",
    "\n",
    "new_hotel_features_df=pd.DataFrame(new_hotel_features)\n",
    "\n",
    "new_hotel_features_scaled =scaler.transform(new_hotel_features_df)\n",
    "\n",
    "new_hotel_labels=kmeans.predict(new_hotel_features_scaled)\n",
    "print(\"Recommended Cluster's Label {}\".format(new_hotel_labels))\n",
    "\n",
    "new_hotel_best_neighbourhoods_df=neighbourhood_model_df[neighbourhood_model_df['Cluster Labels'].isin(new_hotel_labels)]\n",
    "new_hotel_best_neighbourhoods_df\n"
   ]
  },
  {
   "cell_type": "markdown",
   "metadata": {},
   "source": [
    "### Show recommended neighbourhood on the map"
   ]
  },
  {
   "cell_type": "code",
   "execution_count": 20,
   "metadata": {
    "scrolled": true
   },
   "outputs": [
    {
     "name": "stdout",
     "output_type": "stream",
     "text": [
      "The geograpical coordinate of Rotterdam are 51.9018612, 4.4842992.\n"
     ]
    },
    {
     "data": {
      "text/html": [
       "<div style=\"width:100%;\"><div style=\"position:relative;width:100%;height:0;padding-bottom:60%;\"><iframe src=\"data:text/html;charset=utf-8;base64,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\" style=\"position:absolute;width:100%;height:100%;left:0;top:0;border:none !important;\" allowfullscreen webkitallowfullscreen mozallowfullscreen></iframe></div></div>"
      ],
      "text/plain": [
       "<folium.folium.Map at 0x105b64668>"
      ]
     },
     "execution_count": 20,
     "metadata": {},
     "output_type": "execute_result"
    }
   ],
   "source": [
    "showNeighbourdsInMap(new_hotel_best_neighbourhoods_df,None,new_hotel_best_neighbourhoods_df['Latitude'][0],new_hotel_best_neighbourhoods_df['Longitude'][0])"
   ]
  }
 ],
 "metadata": {
  "file_extension": ".py",
  "kernelspec": {
   "display_name": "Python 3",
   "language": "python",
   "name": "python3"
  },
  "language_info": {
   "codemirror_mode": {
    "name": "ipython",
    "version": 3
   },
   "file_extension": ".py",
   "mimetype": "text/x-python",
   "name": "python",
   "nbconvert_exporter": "python",
   "pygments_lexer": "ipython3",
   "version": "3.6.6"
  },
  "mimetype": "text/x-python",
  "name": "python",
  "npconvert_exporter": "python",
  "pygments_lexer": "ipython3",
  "version": 3
 },
 "nbformat": 4,
 "nbformat_minor": 2
}
